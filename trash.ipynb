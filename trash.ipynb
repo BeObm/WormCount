{
 "cells": [
  {
   "cell_type": "code",
   "id": "initial_id",
   "metadata": {
    "collapsed": true,
    "ExecuteTime": {
     "end_time": "2025-07-12T17:19:23.300048Z",
     "start_time": "2025-07-12T17:19:23.284448Z"
    }
   },
   "source": [
    "cleaned_lines = []\n",
    "with open(\"rrequirements.txt\", \"r\") as f:\n",
    "    for line in f:\n",
    "        if \"@ file://\" not in line:\n",
    "            cleaned_lines.append(line)\n",
    "\n",
    "with open(\"requirements.txt\", \"w\") as f:\n",
    "    f.writelines(cleaned_lines)"
   ],
   "outputs": [],
   "execution_count": 2
  },
  {
   "metadata": {},
   "cell_type": "code",
   "outputs": [],
   "execution_count": null,
   "source": "",
   "id": "be330233d46b099b"
  }
 ],
 "metadata": {
  "kernelspec": {
   "display_name": "Python 3",
   "language": "python",
   "name": "python3"
  },
  "language_info": {
   "codemirror_mode": {
    "name": "ipython",
    "version": 2
   },
   "file_extension": ".py",
   "mimetype": "text/x-python",
   "name": "python",
   "nbconvert_exporter": "python",
   "pygments_lexer": "ipython2",
   "version": "2.7.6"
  }
 },
 "nbformat": 4,
 "nbformat_minor": 5
}
